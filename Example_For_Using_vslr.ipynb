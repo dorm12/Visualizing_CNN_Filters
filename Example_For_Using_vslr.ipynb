{
  "nbformat": 4,
  "nbformat_minor": 0,
  "metadata": {
    "colab": {
      "provenance": [],
      "machine_shape": "hm"
    },
    "kernelspec": {
      "display_name": "Python 3",
      "name": "python3"
    },
    "accelerator": "GPU",
    "gpuClass": "standard"
  },
  "cells": [
    {
      "cell_type": "markdown",
      "metadata": {
        "id": "Ds2o8jo0RAah"
      },
      "source": [
        "# Using Visualizer"
      ]
    },
    {
      "cell_type": "markdown",
      "source": [
        "### Cloning the git repo"
      ],
      "metadata": {
        "id": "dYwcqG1YVfPu"
      }
    },
    {
      "cell_type": "code",
      "source": [
        "! git clone -b test_API https://github.com/dorm12/Visualizing_CNN_Filters.git\n",
        "# ! git clone https://github.com/dorm12/Visualizing_CNN_Filters.git"
      ],
      "metadata": {
        "colab": {
          "base_uri": "https://localhost:8080/"
        },
        "id": "v6LyVjaSViLS",
        "outputId": "000ef6f4-9d4c-445f-e091-24f81291d34c"
      },
      "execution_count": 1,
      "outputs": [
        {
          "output_type": "stream",
          "name": "stdout",
          "text": [
            "Cloning into 'Visualizing_CNN_Filters'...\n",
            "remote: Enumerating objects: 71, done.\u001b[K\n",
            "remote: Counting objects: 100% (71/71), done.\u001b[K\n",
            "remote: Compressing objects: 100% (53/53), done.\u001b[K\n",
            "remote: Total 71 (delta 25), reused 60 (delta 14), pack-reused 0\u001b[K\n",
            "Unpacking objects: 100% (71/71), done.\n"
          ]
        }
      ]
    },
    {
      "cell_type": "markdown",
      "source": [
        "### Loading a model"
      ],
      "metadata": {
        "id": "iaGnVPvLaT6F"
      }
    },
    {
      "cell_type": "code",
      "source": [
        "from tensorflow.keras.applications import VGG16\n",
        "import numpy as np\n",
        "import matplotlib.pyplot as plt"
      ],
      "metadata": {
        "id": "eJgyKajF0PXA"
      },
      "execution_count": 2,
      "outputs": []
    },
    {
      "cell_type": "code",
      "source": [
        "model = VGG16(weights=\"imagenet\", include_top=False)\n",
        "model.summary()"
      ],
      "metadata": {
        "id": "4xm8MfGYkyb2"
      },
      "execution_count": null,
      "outputs": []
    },
    {
      "cell_type": "markdown",
      "source": [
        "## Now: Using the Visualizer"
      ],
      "metadata": {
        "id": "n_U3KQnGaWdu"
      }
    },
    {
      "cell_type": "code",
      "source": [
        "# from Visualizing_CNN_Filters.API import Visualizing_Filters as VF\n",
        "from Visualizing_CNN_Filters.API import main as Visualizer"
      ],
      "metadata": {
        "id": "KooZ1oKFW2tj"
      },
      "execution_count": null,
      "outputs": []
    },
    {
      "cell_type": "code",
      "source": [
        "# [layer.name for layer in model.layers]"
      ],
      "metadata": {
        "id": "cIJ2I7KsaiCD"
      },
      "execution_count": null,
      "outputs": []
    },
    {
      "cell_type": "code",
      "source": [
        "vslr = Visualizer.Visualizer(model, 'block3_pool')"
      ],
      "metadata": {
        "id": "QymyaqPWMh14"
      },
      "execution_count": null,
      "outputs": []
    },
    {
      "cell_type": "code",
      "source": [
        "# load any image for initialization \n",
        "# or use default initialization (random image)\n",
        "init_img = np.load('Visualizing_CNN_Filters/init_img.npy')\n",
        "init_img.shape"
      ],
      "metadata": {
        "id": "JFoFyO_opYbD"
      },
      "execution_count": null,
      "outputs": []
    },
    {
      "cell_type": "markdown",
      "source": [
        "### Visualizing the filters"
      ],
      "metadata": {
        "id": "Fk0K7MAbaejg"
      }
    },
    {
      "cell_type": "code",
      "source": [
        "amount_of_filters = vslr.get_target_layer().output_shape[-1]\n",
        "amount_of_filters = min(8, amount_of_filters)\n",
        "f, ax = plt.subplots(int(amount_of_filters/4), 4, figsize=(20,12))\n",
        "fl = ax.flatten()\n",
        "for i in range(amount_of_filters):\n",
        "  loss, img = vslr.feature_visualization(filter_index=i, img_width=120, img_height=120,\n",
        "                                         iterations=100, initializer=init_img)\n",
        "  fl[i].imshow(img)\n",
        "  fl[i].set_title(f'filter index: {i}')\n",
        "plt.show()"
      ],
      "metadata": {
        "id": "upTnw3TbRj_A"
      },
      "execution_count": null,
      "outputs": []
    },
    {
      "cell_type": "markdown",
      "source": [
        "#### All other methods"
      ],
      "metadata": {
        "id": "nMLk10T4_gsz"
      }
    },
    {
      "cell_type": "code",
      "source": [
        "vslr.get_target_layer().name\n",
        "vslr.set_target_layer('block2_pool')\n",
        "vslr.get_target_layer().name"
      ],
      "metadata": {
        "id": "2dNQQ74wurOk"
      },
      "execution_count": null,
      "outputs": []
    },
    {
      "cell_type": "code",
      "source": [
        "feature_ext = vslr.create_feature_extractor('block3_conv3')\n",
        "feature_ext.output_shape, feature_ext(init_img[np.newaxis, :]).shape"
      ],
      "metadata": {
        "id": "E_zeFub3vvkD"
      },
      "execution_count": null,
      "outputs": []
    },
    {
      "cell_type": "code",
      "source": [
        "acts, stds, stds_sorted = vslr.get_activations(init_img[None,:], \n",
        "                                               layer_name='block3_conv3')\n",
        "acts[0,:10]"
      ],
      "metadata": {
        "id": "FCtXQE4Kwnfo"
      },
      "execution_count": null,
      "outputs": []
    },
    {
      "cell_type": "code",
      "source": [
        "assert (feature_ext(init_img[np.newaxis, :])[0].numpy().mean(axis=(0,1)) == acts).all()"
      ],
      "metadata": {
        "id": "k-RTxphkAc9d"
      },
      "execution_count": null,
      "outputs": []
    },
    {
      "cell_type": "code",
      "source": [
        "assert 1==0"
      ],
      "metadata": {
        "id": "ZK5MxynOUjCQ"
      },
      "execution_count": null,
      "outputs": []
    },
    {
      "cell_type": "markdown",
      "source": [
        "# Grad-Cam"
      ],
      "metadata": {
        "id": "5WjSBHQj0TZ2"
      }
    },
    {
      "cell_type": "code",
      "source": [
        "from google.colab import drive\n",
        "drive.mount('/content/drive')\n",
        "from tensorflow.keras.models import load_model\n",
        "\n",
        "PATH = '/content/drive/MyDrive/Exploring_The_Black_Box_Called_CNN/cats_vs_dogs_model'\n",
        "\n",
        "model = load_model(PATH)\n",
        "\n",
        "PATH = 'drive/MyDrive/cats_vs_dogs'\n",
        "\n",
        "X = np.load(PATH+'/cats_dogs_arrays.npz')['arr_0']/255\n",
        "labels = np.load(PATH+'/cats_dogs_labels.npy')"
      ],
      "metadata": {
        "id": "qBQl2Su-3viq"
      },
      "execution_count": null,
      "outputs": []
    },
    {
      "cell_type": "markdown",
      "source": [
        "### Algorithms"
      ],
      "metadata": {
        "id": "D2l52r_30n-d"
      }
    },
    {
      "cell_type": "markdown",
      "source": [
        "## Image activation"
      ],
      "metadata": {
        "id": "xafCwqFrd1_D"
      }
    },
    {
      "cell_type": "markdown",
      "source": [
        "Loading just ten pictures\n"
      ],
      "metadata": {
        "id": "KHMQQLvWeFEC"
      }
    },
    {
      "cell_type": "code",
      "source": [
        "import cv2\n",
        "import numpy as np\n",
        "images = np.load('/content/drive/MyDrive/Exploring_The_Black_Box_Called_CNN/Blood_Cells/ten_images.npy')\n",
        "images = [cv2.resize(image, (120, 120))/255 for image in images]\n",
        "images = np.array(images)\n",
        "images.shape, images.min(), images.max()"
      ],
      "metadata": {
        "id": "t4klwC-peI1B"
      },
      "execution_count": null,
      "outputs": []
    },
    {
      "cell_type": "code",
      "source": [
        "vslr.print_activations(images[0], layer_name='max_pooling2d', amount_of_filters=15) # There's a bug to be fixed in regard to 'amount_of_filters'"
      ],
      "metadata": {
        "id": "YB-g58mYeXKx"
      },
      "execution_count": null,
      "outputs": []
    }
  ]
}